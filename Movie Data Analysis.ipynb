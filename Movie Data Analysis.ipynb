{
 "cells": [
  {
   "cell_type": "markdown",
   "metadata": {},
   "source": [
    "# Movie Recommendation Engine: Data Analysis and Visualization"
   ]
  },
  {
   "cell_type": "markdown",
   "metadata": {},
   "source": [
    "#### The core dataset is contained in 3 main files, tag.csv - containing user generated tags, rating.csv - containing user ratings, movie.csv - containing movie master data."
   ]
  },
  {
   "cell_type": "markdown",
   "metadata": {},
   "source": [
    "#### User picks a genre they want to watch, then they get asked if they like a few (popular) movies [unless we can get autocomplete on the list], then a list of 3 movies is presented. Under the hood, we use ratings and tags to get list of movies calculating distances"
   ]
  },
  {
   "cell_type": "code",
   "execution_count": 1,
   "metadata": {
    "collapsed": true
   },
   "outputs": [],
   "source": [
    "import pandas as pd\n",
    "import matplotlib.pyplot as plt\n",
    "%matplotlib inline \n",
    "import numpy as np\n",
    "import time\n",
    "from sklearn.metrics.pairwise import cosine_similarity\n",
    "data_dir = r\"C:\\Users\\Ben\\Documents\\Data Sets\\movielens_20m_dataset\\\\\""
   ]
  },
  {
   "cell_type": "code",
   "execution_count": 2,
   "metadata": {
    "collapsed": true
   },
   "outputs": [],
   "source": [
    "pd.set_option('display.max_rows', 20)"
   ]
  },
  {
   "cell_type": "code",
   "execution_count": 3,
   "metadata": {
    "collapsed": true
   },
   "outputs": [],
   "source": [
    "movies_master = pd.read_csv(data_dir+\"movie.csv\")"
   ]
  },
  {
   "cell_type": "code",
   "execution_count": 4,
   "metadata": {},
   "outputs": [
    {
     "data": {
      "text/html": [
       "<div>\n",
       "<style>\n",
       "    .dataframe thead tr:only-child th {\n",
       "        text-align: right;\n",
       "    }\n",
       "\n",
       "    .dataframe thead th {\n",
       "        text-align: left;\n",
       "    }\n",
       "\n",
       "    .dataframe tbody tr th {\n",
       "        vertical-align: top;\n",
       "    }\n",
       "</style>\n",
       "<table border=\"1\" class=\"dataframe\">\n",
       "  <thead>\n",
       "    <tr style=\"text-align: right;\">\n",
       "      <th></th>\n",
       "      <th>movieId</th>\n",
       "      <th>title</th>\n",
       "      <th>genres</th>\n",
       "    </tr>\n",
       "  </thead>\n",
       "  <tbody>\n",
       "    <tr>\n",
       "      <th>0</th>\n",
       "      <td>1</td>\n",
       "      <td>Toy Story (1995)</td>\n",
       "      <td>Adventure|Animation|Children|Comedy|Fantasy</td>\n",
       "    </tr>\n",
       "    <tr>\n",
       "      <th>1</th>\n",
       "      <td>2</td>\n",
       "      <td>Jumanji (1995)</td>\n",
       "      <td>Adventure|Children|Fantasy</td>\n",
       "    </tr>\n",
       "    <tr>\n",
       "      <th>2</th>\n",
       "      <td>3</td>\n",
       "      <td>Grumpier Old Men (1995)</td>\n",
       "      <td>Comedy|Romance</td>\n",
       "    </tr>\n",
       "    <tr>\n",
       "      <th>3</th>\n",
       "      <td>4</td>\n",
       "      <td>Waiting to Exhale (1995)</td>\n",
       "      <td>Comedy|Drama|Romance</td>\n",
       "    </tr>\n",
       "    <tr>\n",
       "      <th>4</th>\n",
       "      <td>5</td>\n",
       "      <td>Father of the Bride Part II (1995)</td>\n",
       "      <td>Comedy</td>\n",
       "    </tr>\n",
       "    <tr>\n",
       "      <th>5</th>\n",
       "      <td>6</td>\n",
       "      <td>Heat (1995)</td>\n",
       "      <td>Action|Crime|Thriller</td>\n",
       "    </tr>\n",
       "    <tr>\n",
       "      <th>6</th>\n",
       "      <td>7</td>\n",
       "      <td>Sabrina (1995)</td>\n",
       "      <td>Comedy|Romance</td>\n",
       "    </tr>\n",
       "    <tr>\n",
       "      <th>7</th>\n",
       "      <td>8</td>\n",
       "      <td>Tom and Huck (1995)</td>\n",
       "      <td>Adventure|Children</td>\n",
       "    </tr>\n",
       "    <tr>\n",
       "      <th>8</th>\n",
       "      <td>9</td>\n",
       "      <td>Sudden Death (1995)</td>\n",
       "      <td>Action</td>\n",
       "    </tr>\n",
       "    <tr>\n",
       "      <th>9</th>\n",
       "      <td>10</td>\n",
       "      <td>GoldenEye (1995)</td>\n",
       "      <td>Action|Adventure|Thriller</td>\n",
       "    </tr>\n",
       "    <tr>\n",
       "      <th>...</th>\n",
       "      <td>...</td>\n",
       "      <td>...</td>\n",
       "      <td>...</td>\n",
       "    </tr>\n",
       "    <tr>\n",
       "      <th>27268</th>\n",
       "      <td>131241</td>\n",
       "      <td>Ants in the Pants (2000)</td>\n",
       "      <td>Comedy|Romance</td>\n",
       "    </tr>\n",
       "    <tr>\n",
       "      <th>27269</th>\n",
       "      <td>131243</td>\n",
       "      <td>Werner - Gekotzt wird später (2003)</td>\n",
       "      <td>Animation|Comedy</td>\n",
       "    </tr>\n",
       "    <tr>\n",
       "      <th>27270</th>\n",
       "      <td>131248</td>\n",
       "      <td>Brother Bear 2 (2006)</td>\n",
       "      <td>Adventure|Animation|Children|Comedy|Fantasy</td>\n",
       "    </tr>\n",
       "    <tr>\n",
       "      <th>27271</th>\n",
       "      <td>131250</td>\n",
       "      <td>No More School (2000)</td>\n",
       "      <td>Comedy</td>\n",
       "    </tr>\n",
       "    <tr>\n",
       "      <th>27272</th>\n",
       "      <td>131252</td>\n",
       "      <td>Forklift Driver Klaus: The First Day on the Jo...</td>\n",
       "      <td>Comedy|Horror</td>\n",
       "    </tr>\n",
       "    <tr>\n",
       "      <th>27273</th>\n",
       "      <td>131254</td>\n",
       "      <td>Kein Bund für's Leben (2007)</td>\n",
       "      <td>Comedy</td>\n",
       "    </tr>\n",
       "    <tr>\n",
       "      <th>27274</th>\n",
       "      <td>131256</td>\n",
       "      <td>Feuer, Eis &amp; Dosenbier (2002)</td>\n",
       "      <td>Comedy</td>\n",
       "    </tr>\n",
       "    <tr>\n",
       "      <th>27275</th>\n",
       "      <td>131258</td>\n",
       "      <td>The Pirates (2014)</td>\n",
       "      <td>Adventure</td>\n",
       "    </tr>\n",
       "    <tr>\n",
       "      <th>27276</th>\n",
       "      <td>131260</td>\n",
       "      <td>Rentun Ruusu (2001)</td>\n",
       "      <td>(no genres listed)</td>\n",
       "    </tr>\n",
       "    <tr>\n",
       "      <th>27277</th>\n",
       "      <td>131262</td>\n",
       "      <td>Innocence (2014)</td>\n",
       "      <td>Adventure|Fantasy|Horror</td>\n",
       "    </tr>\n",
       "  </tbody>\n",
       "</table>\n",
       "<p>27278 rows × 3 columns</p>\n",
       "</div>"
      ],
      "text/plain": [
       "       movieId                                              title  \\\n",
       "0            1                                   Toy Story (1995)   \n",
       "1            2                                     Jumanji (1995)   \n",
       "2            3                            Grumpier Old Men (1995)   \n",
       "3            4                           Waiting to Exhale (1995)   \n",
       "4            5                 Father of the Bride Part II (1995)   \n",
       "5            6                                        Heat (1995)   \n",
       "6            7                                     Sabrina (1995)   \n",
       "7            8                                Tom and Huck (1995)   \n",
       "8            9                                Sudden Death (1995)   \n",
       "9           10                                   GoldenEye (1995)   \n",
       "...        ...                                                ...   \n",
       "27268   131241                           Ants in the Pants (2000)   \n",
       "27269   131243                Werner - Gekotzt wird später (2003)   \n",
       "27270   131248                              Brother Bear 2 (2006)   \n",
       "27271   131250                              No More School (2000)   \n",
       "27272   131252  Forklift Driver Klaus: The First Day on the Jo...   \n",
       "27273   131254                       Kein Bund für's Leben (2007)   \n",
       "27274   131256                      Feuer, Eis & Dosenbier (2002)   \n",
       "27275   131258                                 The Pirates (2014)   \n",
       "27276   131260                                Rentun Ruusu (2001)   \n",
       "27277   131262                                   Innocence (2014)   \n",
       "\n",
       "                                            genres  \n",
       "0      Adventure|Animation|Children|Comedy|Fantasy  \n",
       "1                       Adventure|Children|Fantasy  \n",
       "2                                   Comedy|Romance  \n",
       "3                             Comedy|Drama|Romance  \n",
       "4                                           Comedy  \n",
       "5                            Action|Crime|Thriller  \n",
       "6                                   Comedy|Romance  \n",
       "7                               Adventure|Children  \n",
       "8                                           Action  \n",
       "9                        Action|Adventure|Thriller  \n",
       "...                                            ...  \n",
       "27268                               Comedy|Romance  \n",
       "27269                             Animation|Comedy  \n",
       "27270  Adventure|Animation|Children|Comedy|Fantasy  \n",
       "27271                                       Comedy  \n",
       "27272                                Comedy|Horror  \n",
       "27273                                       Comedy  \n",
       "27274                                       Comedy  \n",
       "27275                                    Adventure  \n",
       "27276                           (no genres listed)  \n",
       "27277                     Adventure|Fantasy|Horror  \n",
       "\n",
       "[27278 rows x 3 columns]"
      ]
     },
     "execution_count": 4,
     "metadata": {},
     "output_type": "execute_result"
    }
   ],
   "source": [
    "movies_master"
   ]
  },
  {
   "cell_type": "markdown",
   "metadata": {},
   "source": [
    "## Manipulate movies data to show different genres"
   ]
  },
  {
   "cell_type": "code",
   "execution_count": 5,
   "metadata": {
    "collapsed": true
   },
   "outputs": [],
   "source": [
    "def explode(df, lst_cols, fill_value=''):\n",
    "    # make sure `lst_cols` is a list\n",
    "    if lst_cols and not isinstance(lst_cols, list):\n",
    "        lst_cols = [lst_cols]\n",
    "    # all columns except `lst_cols`\n",
    "    idx_cols = df.columns.difference(lst_cols)\n",
    "\n",
    "    # calculate lengths of lists\n",
    "    lens = df[lst_cols[0]].str.len()\n",
    "\n",
    "    if (lens > 0).all():\n",
    "        # ALL lists in cells aren't empty\n",
    "        return pd.DataFrame({\n",
    "            col:np.repeat(df[col].values, df[lst_cols[0]].str.len())\n",
    "            for col in idx_cols\n",
    "        }).assign(**{col:np.concatenate(df[col].values) for col in lst_cols}) \\\n",
    "          .loc[:, df.columns]\n",
    "    else:\n",
    "        # at least one list in cells is empty\n",
    "        return pd.DataFrame({\n",
    "            col:np.repeat(df[col].values, df[lst_cols[0]].str.len())\n",
    "            for col in idx_cols\n",
    "        }).assign(**{col:np.concatenate(df[col].values) for col in lst_cols}) \\\n",
    "          .append(df.loc[lens==0, idx_cols]).fillna(fill_value) \\\n",
    "          .loc[:, df.columns]"
   ]
  },
  {
   "cell_type": "code",
   "execution_count": 6,
   "metadata": {
    "collapsed": true
   },
   "outputs": [],
   "source": [
    "movies_master[\"genres\"] = movies_master.genres.str.split('|')\n",
    "movies = explode(movies_master, 'genres')"
   ]
  },
  {
   "cell_type": "code",
   "execution_count": 7,
   "metadata": {},
   "outputs": [
    {
     "data": {
      "text/html": [
       "<div>\n",
       "<style>\n",
       "    .dataframe thead tr:only-child th {\n",
       "        text-align: right;\n",
       "    }\n",
       "\n",
       "    .dataframe thead th {\n",
       "        text-align: left;\n",
       "    }\n",
       "\n",
       "    .dataframe tbody tr th {\n",
       "        vertical-align: top;\n",
       "    }\n",
       "</style>\n",
       "<table border=\"1\" class=\"dataframe\">\n",
       "  <thead>\n",
       "    <tr style=\"text-align: right;\">\n",
       "      <th></th>\n",
       "      <th>movieId</th>\n",
       "      <th>title</th>\n",
       "      <th>genres</th>\n",
       "    </tr>\n",
       "  </thead>\n",
       "  <tbody>\n",
       "    <tr>\n",
       "      <th>0</th>\n",
       "      <td>1</td>\n",
       "      <td>Toy Story (1995)</td>\n",
       "      <td>Adventure</td>\n",
       "    </tr>\n",
       "    <tr>\n",
       "      <th>1</th>\n",
       "      <td>1</td>\n",
       "      <td>Toy Story (1995)</td>\n",
       "      <td>Animation</td>\n",
       "    </tr>\n",
       "    <tr>\n",
       "      <th>2</th>\n",
       "      <td>1</td>\n",
       "      <td>Toy Story (1995)</td>\n",
       "      <td>Children</td>\n",
       "    </tr>\n",
       "    <tr>\n",
       "      <th>3</th>\n",
       "      <td>1</td>\n",
       "      <td>Toy Story (1995)</td>\n",
       "      <td>Comedy</td>\n",
       "    </tr>\n",
       "    <tr>\n",
       "      <th>4</th>\n",
       "      <td>1</td>\n",
       "      <td>Toy Story (1995)</td>\n",
       "      <td>Fantasy</td>\n",
       "    </tr>\n",
       "  </tbody>\n",
       "</table>\n",
       "</div>"
      ],
      "text/plain": [
       "   movieId             title     genres\n",
       "0        1  Toy Story (1995)  Adventure\n",
       "1        1  Toy Story (1995)  Animation\n",
       "2        1  Toy Story (1995)   Children\n",
       "3        1  Toy Story (1995)     Comedy\n",
       "4        1  Toy Story (1995)    Fantasy"
      ]
     },
     "execution_count": 7,
     "metadata": {},
     "output_type": "execute_result"
    }
   ],
   "source": [
    "movies.head(5)"
   ]
  },
  {
   "cell_type": "code",
   "execution_count": 8,
   "metadata": {},
   "outputs": [
    {
     "data": {
      "text/plain": [
       "array(['Adventure', 'Animation', 'Children', 'Comedy', 'Fantasy',\n",
       "       'Romance', 'Drama', 'Action', 'Crime', 'Thriller', 'Horror',\n",
       "       'Mystery', 'Sci-Fi', 'IMAX', 'Documentary', 'War', 'Musical',\n",
       "       'Western', 'Film-Noir', '(no genres listed)'], dtype=object)"
      ]
     },
     "execution_count": 8,
     "metadata": {},
     "output_type": "execute_result"
    }
   ],
   "source": [
    "movies[\"genres\"].unique()"
   ]
  },
  {
   "cell_type": "markdown",
   "metadata": {},
   "source": [
    "#### Number of movies per genre"
   ]
  },
  {
   "cell_type": "code",
   "execution_count": 9,
   "metadata": {},
   "outputs": [
    {
     "name": "stdout",
     "output_type": "stream",
     "text": [
      "27262 movies in the dataset\n"
     ]
    }
   ],
   "source": [
    "print(movies_master.title.nunique(), \"movies in the dataset\")"
   ]
  },
  {
   "cell_type": "code",
   "execution_count": 10,
   "metadata": {},
   "outputs": [
    {
     "data": {
      "text/plain": [
       "genres\n",
       "(no genres listed)      246\n",
       "Action                 3519\n",
       "Adventure              2328\n",
       "Animation              1025\n",
       "Children               1138\n",
       "Comedy                 8369\n",
       "Crime                  2938\n",
       "Documentary            2471\n",
       "Drama                 13337\n",
       "Fantasy                1412\n",
       "Film-Noir               330\n",
       "Horror                 2610\n",
       "IMAX                    196\n",
       "Musical                1036\n",
       "Mystery                1514\n",
       "Romance                4124\n",
       "Sci-Fi                 1740\n",
       "Thriller               4178\n",
       "War                    1194\n",
       "Western                 676\n",
       "Name: title, dtype: int64"
      ]
     },
     "execution_count": 10,
     "metadata": {},
     "output_type": "execute_result"
    }
   ],
   "source": [
    "movies.groupby(\"genres\").title.nunique()"
   ]
  },
  {
   "cell_type": "markdown",
   "metadata": {},
   "source": [
    "### Extract the year of movie"
   ]
  },
  {
   "cell_type": "code",
   "execution_count": 11,
   "metadata": {},
   "outputs": [],
   "source": [
    "#Select the year and the extract it from the parenthases\n",
    "movies_master[\"year\"] = movies_master.title.str[-6:]\\\n",
    "                                     .str.extract('(\\d+)', expand=False)\\\n",
    "                                     .astype(float)\n",
    "movies_master[\"title\"] = movies_master[\"title\"].apply(lambda x: x.split(\"(\")[0][:-1])"
   ]
  },
  {
   "cell_type": "code",
   "execution_count": 12,
   "metadata": {},
   "outputs": [
    {
     "data": {
      "text/plain": [
       "0                                              Toy Story\n",
       "1                                                Jumanji\n",
       "2                                       Grumpier Old Men\n",
       "3                                      Waiting to Exhale\n",
       "4                            Father of the Bride Part II\n",
       "5                                                   Heat\n",
       "6                                                Sabrina\n",
       "7                                           Tom and Huck\n",
       "8                                           Sudden Death\n",
       "9                                              GoldenEye\n",
       "                              ...                       \n",
       "27268                                  Ants in the Pants\n",
       "27269                       Werner - Gekotzt wird später\n",
       "27270                                     Brother Bear 2\n",
       "27271                                     No More School\n",
       "27272    Forklift Driver Klaus: The First Day on the Job\n",
       "27273                              Kein Bund für's Leben\n",
       "27274                             Feuer, Eis & Dosenbier\n",
       "27275                                        The Pirates\n",
       "27276                                       Rentun Ruusu\n",
       "27277                                          Innocence\n",
       "Name: title, Length: 27278, dtype: object"
      ]
     },
     "execution_count": 12,
     "metadata": {},
     "output_type": "execute_result"
    }
   ],
   "source": [
    "movies_master[\"title\"]"
   ]
  },
  {
   "cell_type": "markdown",
   "metadata": {},
   "source": [
    "### Which movies are most watched (most rated) per genre?"
   ]
  },
  {
   "cell_type": "code",
   "execution_count": 13,
   "metadata": {
    "collapsed": true
   },
   "outputs": [],
   "source": [
    "ratings = pd.read_csv(data_dir+\"rating.csv\")"
   ]
  },
  {
   "cell_type": "code",
   "execution_count": 14,
   "metadata": {},
   "outputs": [
    {
     "data": {
      "text/html": [
       "<div>\n",
       "<style>\n",
       "    .dataframe thead tr:only-child th {\n",
       "        text-align: right;\n",
       "    }\n",
       "\n",
       "    .dataframe thead th {\n",
       "        text-align: left;\n",
       "    }\n",
       "\n",
       "    .dataframe tbody tr th {\n",
       "        vertical-align: top;\n",
       "    }\n",
       "</style>\n",
       "<table border=\"1\" class=\"dataframe\">\n",
       "  <thead>\n",
       "    <tr style=\"text-align: right;\">\n",
       "      <th></th>\n",
       "      <th>userId</th>\n",
       "      <th>movieId</th>\n",
       "      <th>rating</th>\n",
       "      <th>timestamp</th>\n",
       "    </tr>\n",
       "  </thead>\n",
       "  <tbody>\n",
       "    <tr>\n",
       "      <th>0</th>\n",
       "      <td>1</td>\n",
       "      <td>2</td>\n",
       "      <td>3.5</td>\n",
       "      <td>2005-04-02 23:53:47</td>\n",
       "    </tr>\n",
       "    <tr>\n",
       "      <th>1</th>\n",
       "      <td>1</td>\n",
       "      <td>29</td>\n",
       "      <td>3.5</td>\n",
       "      <td>2005-04-02 23:31:16</td>\n",
       "    </tr>\n",
       "    <tr>\n",
       "      <th>2</th>\n",
       "      <td>1</td>\n",
       "      <td>32</td>\n",
       "      <td>3.5</td>\n",
       "      <td>2005-04-02 23:33:39</td>\n",
       "    </tr>\n",
       "    <tr>\n",
       "      <th>3</th>\n",
       "      <td>1</td>\n",
       "      <td>47</td>\n",
       "      <td>3.5</td>\n",
       "      <td>2005-04-02 23:32:07</td>\n",
       "    </tr>\n",
       "    <tr>\n",
       "      <th>4</th>\n",
       "      <td>1</td>\n",
       "      <td>50</td>\n",
       "      <td>3.5</td>\n",
       "      <td>2005-04-02 23:29:40</td>\n",
       "    </tr>\n",
       "  </tbody>\n",
       "</table>\n",
       "</div>"
      ],
      "text/plain": [
       "   userId  movieId  rating            timestamp\n",
       "0       1        2     3.5  2005-04-02 23:53:47\n",
       "1       1       29     3.5  2005-04-02 23:31:16\n",
       "2       1       32     3.5  2005-04-02 23:33:39\n",
       "3       1       47     3.5  2005-04-02 23:32:07\n",
       "4       1       50     3.5  2005-04-02 23:29:40"
      ]
     },
     "execution_count": 14,
     "metadata": {},
     "output_type": "execute_result"
    }
   ],
   "source": [
    "ratings.head()"
   ]
  },
  {
   "cell_type": "code",
   "execution_count": 15,
   "metadata": {
    "collapsed": true
   },
   "outputs": [],
   "source": [
    "popular_movies = ratings.groupby(\"movieId\")\\\n",
    "                        .userId\\\n",
    "                        .count()\\\n",
    "                        .reset_index()\n",
    "popular_movies.columns = ['movieId', 'num_user']\n",
    "popular_movies = popular_movies.sort_values(\"num_user\", ascending=False)"
   ]
  },
  {
   "cell_type": "code",
   "execution_count": 16,
   "metadata": {},
   "outputs": [
    {
     "data": {
      "text/html": [
       "<div>\n",
       "<style>\n",
       "    .dataframe thead tr:only-child th {\n",
       "        text-align: right;\n",
       "    }\n",
       "\n",
       "    .dataframe thead th {\n",
       "        text-align: left;\n",
       "    }\n",
       "\n",
       "    .dataframe tbody tr th {\n",
       "        vertical-align: top;\n",
       "    }\n",
       "</style>\n",
       "<table border=\"1\" class=\"dataframe\">\n",
       "  <thead>\n",
       "    <tr style=\"text-align: right;\">\n",
       "      <th></th>\n",
       "      <th>movieId</th>\n",
       "      <th>num_user</th>\n",
       "      <th>title</th>\n",
       "      <th>genres</th>\n",
       "      <th>year</th>\n",
       "    </tr>\n",
       "  </thead>\n",
       "  <tbody>\n",
       "    <tr>\n",
       "      <th>0</th>\n",
       "      <td>109374</td>\n",
       "      <td>2230</td>\n",
       "      <td>Grand Budapest Hotel, The</td>\n",
       "      <td>[Comedy, Drama]</td>\n",
       "      <td>2014.0</td>\n",
       "    </tr>\n",
       "    <tr>\n",
       "      <th>1</th>\n",
       "      <td>112852</td>\n",
       "      <td>2049</td>\n",
       "      <td>Guardians of the Galaxy</td>\n",
       "      <td>[Action, Adventure, Sci-Fi]</td>\n",
       "      <td>2014.0</td>\n",
       "    </tr>\n",
       "    <tr>\n",
       "      <th>2</th>\n",
       "      <td>109487</td>\n",
       "      <td>1739</td>\n",
       "      <td>Interstellar</td>\n",
       "      <td>[Sci-Fi, IMAX]</td>\n",
       "      <td>2014.0</td>\n",
       "    </tr>\n",
       "    <tr>\n",
       "      <th>3</th>\n",
       "      <td>111759</td>\n",
       "      <td>1666</td>\n",
       "      <td>Edge of Tomorrow</td>\n",
       "      <td>[Action, Sci-Fi, IMAX]</td>\n",
       "      <td>2014.0</td>\n",
       "    </tr>\n",
       "    <tr>\n",
       "      <th>4</th>\n",
       "      <td>111362</td>\n",
       "      <td>1534</td>\n",
       "      <td>X-Men: Days of Future Past</td>\n",
       "      <td>[Action, Adventure, Sci-Fi]</td>\n",
       "      <td>2014.0</td>\n",
       "    </tr>\n",
       "    <tr>\n",
       "      <th>5</th>\n",
       "      <td>112556</td>\n",
       "      <td>1479</td>\n",
       "      <td>Gone Girl</td>\n",
       "      <td>[Drama, Thriller]</td>\n",
       "      <td>2014.0</td>\n",
       "    </tr>\n",
       "    <tr>\n",
       "      <th>6</th>\n",
       "      <td>110102</td>\n",
       "      <td>1261</td>\n",
       "      <td>Captain America: The Winter Soldier</td>\n",
       "      <td>[Action, Adventure, Sci-Fi, IMAX]</td>\n",
       "      <td>2014.0</td>\n",
       "    </tr>\n",
       "    <tr>\n",
       "      <th>7</th>\n",
       "      <td>108932</td>\n",
       "      <td>1181</td>\n",
       "      <td>The Lego Movie</td>\n",
       "      <td>[Action, Adventure, Animation, Children, Comed...</td>\n",
       "      <td>2014.0</td>\n",
       "    </tr>\n",
       "    <tr>\n",
       "      <th>8</th>\n",
       "      <td>112290</td>\n",
       "      <td>913</td>\n",
       "      <td>Boyhood</td>\n",
       "      <td>[Drama]</td>\n",
       "      <td>2014.0</td>\n",
       "    </tr>\n",
       "    <tr>\n",
       "      <th>9</th>\n",
       "      <td>112183</td>\n",
       "      <td>840</td>\n",
       "      <td>Birdman</td>\n",
       "      <td>[Comedy, Drama]</td>\n",
       "      <td>2014.0</td>\n",
       "    </tr>\n",
       "    <tr>\n",
       "      <th>10</th>\n",
       "      <td>112623</td>\n",
       "      <td>759</td>\n",
       "      <td>Dawn of the Planet of the Apes</td>\n",
       "      <td>[Sci-Fi]</td>\n",
       "      <td>2014.0</td>\n",
       "    </tr>\n",
       "    <tr>\n",
       "      <th>11</th>\n",
       "      <td>116797</td>\n",
       "      <td>759</td>\n",
       "      <td>The Imitation Game</td>\n",
       "      <td>[Drama, Thriller]</td>\n",
       "      <td>2014.0</td>\n",
       "    </tr>\n",
       "    <tr>\n",
       "      <th>12</th>\n",
       "      <td>112175</td>\n",
       "      <td>678</td>\n",
       "      <td>How to Train Your Dragon 2</td>\n",
       "      <td>[Action, Adventure, Animation]</td>\n",
       "      <td>2014.0</td>\n",
       "    </tr>\n",
       "    <tr>\n",
       "      <th>13</th>\n",
       "      <td>108190</td>\n",
       "      <td>623</td>\n",
       "      <td>Divergent</td>\n",
       "      <td>[Adventure, Romance, Sci-Fi, IMAX]</td>\n",
       "      <td>2014.0</td>\n",
       "    </tr>\n",
       "    <tr>\n",
       "      <th>14</th>\n",
       "      <td>115569</td>\n",
       "      <td>609</td>\n",
       "      <td>Nightcrawler</td>\n",
       "      <td>[Crime, Drama, Thriller]</td>\n",
       "      <td>2014.0</td>\n",
       "    </tr>\n",
       "    <tr>\n",
       "      <th>15</th>\n",
       "      <td>112552</td>\n",
       "      <td>602</td>\n",
       "      <td>Whiplash</td>\n",
       "      <td>[Drama]</td>\n",
       "      <td>2014.0</td>\n",
       "    </tr>\n",
       "    <tr>\n",
       "      <th>16</th>\n",
       "      <td>116823</td>\n",
       "      <td>567</td>\n",
       "      <td>The Hunger Games: Mockingjay - Part 1</td>\n",
       "      <td>[Adventure, Sci-Fi, Thriller]</td>\n",
       "      <td>2014.0</td>\n",
       "    </tr>\n",
       "    <tr>\n",
       "      <th>17</th>\n",
       "      <td>111364</td>\n",
       "      <td>548</td>\n",
       "      <td>Godzilla</td>\n",
       "      <td>[Action, Adventure, Sci-Fi, IMAX]</td>\n",
       "      <td>2014.0</td>\n",
       "    </tr>\n",
       "    <tr>\n",
       "      <th>18</th>\n",
       "      <td>111360</td>\n",
       "      <td>544</td>\n",
       "      <td>Lucy</td>\n",
       "      <td>[Action, Sci-Fi]</td>\n",
       "      <td>2014.0</td>\n",
       "    </tr>\n",
       "    <tr>\n",
       "      <th>19</th>\n",
       "      <td>118696</td>\n",
       "      <td>538</td>\n",
       "      <td>The Hobbit: The Battle of the Five Armies</td>\n",
       "      <td>[Adventure, Fantasy]</td>\n",
       "      <td>2014.0</td>\n",
       "    </tr>\n",
       "  </tbody>\n",
       "</table>\n",
       "</div>"
      ],
      "text/plain": [
       "    movieId  num_user                                      title  \\\n",
       "0    109374      2230                  Grand Budapest Hotel, The   \n",
       "1    112852      2049                    Guardians of the Galaxy   \n",
       "2    109487      1739                               Interstellar   \n",
       "3    111759      1666                           Edge of Tomorrow   \n",
       "4    111362      1534                 X-Men: Days of Future Past   \n",
       "5    112556      1479                                  Gone Girl   \n",
       "6    110102      1261        Captain America: The Winter Soldier   \n",
       "7    108932      1181                             The Lego Movie   \n",
       "8    112290       913                                    Boyhood   \n",
       "9    112183       840                                    Birdman   \n",
       "10   112623       759             Dawn of the Planet of the Apes   \n",
       "11   116797       759                         The Imitation Game   \n",
       "12   112175       678                 How to Train Your Dragon 2   \n",
       "13   108190       623                                  Divergent   \n",
       "14   115569       609                               Nightcrawler   \n",
       "15   112552       602                                   Whiplash   \n",
       "16   116823       567      The Hunger Games: Mockingjay - Part 1   \n",
       "17   111364       548                                   Godzilla   \n",
       "18   111360       544                                       Lucy   \n",
       "19   118696       538  The Hobbit: The Battle of the Five Armies   \n",
       "\n",
       "                                               genres    year  \n",
       "0                                     [Comedy, Drama]  2014.0  \n",
       "1                         [Action, Adventure, Sci-Fi]  2014.0  \n",
       "2                                      [Sci-Fi, IMAX]  2014.0  \n",
       "3                              [Action, Sci-Fi, IMAX]  2014.0  \n",
       "4                         [Action, Adventure, Sci-Fi]  2014.0  \n",
       "5                                   [Drama, Thriller]  2014.0  \n",
       "6                   [Action, Adventure, Sci-Fi, IMAX]  2014.0  \n",
       "7   [Action, Adventure, Animation, Children, Comed...  2014.0  \n",
       "8                                             [Drama]  2014.0  \n",
       "9                                     [Comedy, Drama]  2014.0  \n",
       "10                                           [Sci-Fi]  2014.0  \n",
       "11                                  [Drama, Thriller]  2014.0  \n",
       "12                     [Action, Adventure, Animation]  2014.0  \n",
       "13                 [Adventure, Romance, Sci-Fi, IMAX]  2014.0  \n",
       "14                           [Crime, Drama, Thriller]  2014.0  \n",
       "15                                            [Drama]  2014.0  \n",
       "16                      [Adventure, Sci-Fi, Thriller]  2014.0  \n",
       "17                  [Action, Adventure, Sci-Fi, IMAX]  2014.0  \n",
       "18                                   [Action, Sci-Fi]  2014.0  \n",
       "19                               [Adventure, Fantasy]  2014.0  "
      ]
     },
     "execution_count": 16,
     "metadata": {},
     "output_type": "execute_result"
    }
   ],
   "source": [
    "pd.merge(popular_movies, movies_master[movies_master.year == 2014], on = 'movieId').head(20)"
   ]
  },
  {
   "cell_type": "code",
   "execution_count": 17,
   "metadata": {},
   "outputs": [
    {
     "name": "stdout",
     "output_type": "stream",
     "text": [
      "14730 movies have less than 30 ratings\n"
     ]
    }
   ],
   "source": [
    "print(sum(popular_movies.num_user < 30), \"movies have less than 30 ratings\")\n",
    "popular_movies = popular_movies[popular_movies.num_user > 30]"
   ]
  },
  {
   "cell_type": "markdown",
   "metadata": {},
   "source": [
    "#### Can raters rate a movie more than once?"
   ]
  },
  {
   "cell_type": "code",
   "execution_count": 18,
   "metadata": {},
   "outputs": [
    {
     "name": "stdout",
     "output_type": "stream",
     "text": [
      "A user can rate a movie a maximum of 1 time(s)\n"
     ]
    }
   ],
   "source": [
    "print(\"A user can rate a movie a maximum of\", ratings.groupby([\"userId\",\"movieId\"]).rating.count().max(), \"time(s)\")"
   ]
  },
  {
   "cell_type": "markdown",
   "metadata": {},
   "source": [
    "### Filter out unpopular movies"
   ]
  },
  {
   "cell_type": "code",
   "execution_count": 19,
   "metadata": {
    "collapsed": true
   },
   "outputs": [],
   "source": [
    "ratings = ratings[ratings[\"movieId\"].isin(popular_movies[\"movieId\"])]\n",
    "movies = movies[movies[\"movieId\"].isin(popular_movies[\"movieId\"])]\n",
    "movies_master = movies_master[movies_master[\"movieId\"].isin(popular_movies[\"movieId\"])]"
   ]
  },
  {
   "cell_type": "markdown",
   "metadata": {},
   "source": [
    "### Movie Rating Similarity"
   ]
  },
  {
   "cell_type": "markdown",
   "metadata": {},
   "source": [
    "#### Add 80 percentile calculation to each movie rating. Ratings better than or equal to this will include raters who \"like\" the movie"
   ]
  },
  {
   "cell_type": "code",
   "execution_count": 20,
   "metadata": {
    "collapsed": true
   },
   "outputs": [],
   "source": [
    "quartiles = ratings.groupby(\"movieId\").rating.quantile(q=.8, interpolation = 'midpoint').reset_index()\n",
    "quartiles.columns = [\"movieId\", \"top_quintile\"]"
   ]
  },
  {
   "cell_type": "code",
   "execution_count": 21,
   "metadata": {
    "collapsed": true
   },
   "outputs": [],
   "source": [
    "ratings = pd.merge(ratings, quartiles, on = \"movieId\")"
   ]
  },
  {
   "cell_type": "code",
   "execution_count": 22,
   "metadata": {
    "collapsed": true
   },
   "outputs": [],
   "source": [
    "ratings['liked'] = np.where(ratings['rating'] >= ratings['top_quintile'], 1, 0)"
   ]
  },
  {
   "cell_type": "markdown",
   "metadata": {},
   "source": [
    "#### Build liked movie1, avg rating movie 2 dataframe"
   ]
  },
  {
   "cell_type": "code",
   "execution_count": 23,
   "metadata": {},
   "outputs": [],
   "source": [
    "movies_to_calc = [1, 296, 2571, 109374, 112852, 112556]"
   ]
  },
  {
   "cell_type": "markdown",
   "metadata": {},
   "source": [
    "#### !The below cell takes a long time to run. Is there a vectorized solution?"
   ]
  },
  {
   "cell_type": "code",
   "execution_count": 24,
   "metadata": {},
   "outputs": [
    {
     "name": "stdout",
     "output_type": "stream",
     "text": [
      "1\n",
      "296\n",
      "2571\n",
      "109374\n",
      "112852\n",
      "112556\n",
      "This cell took 0.3915988524754842 minutes to run\n"
     ]
    }
   ],
   "source": [
    "cols = ['ratedMovie', 'avgRating', 'countRating', 'likedMovie']\n",
    "liked_rated = pd.DataFrame(columns=cols)\n",
    "    \n",
    "start_time = time.time()\n",
    "# for movies in the unqiue list of movies \n",
    "# for movieId in movies_master['movieId']:\n",
    "for movieId in movies_to_calc:\n",
    "\n",
    "    movie = movieId\n",
    "    print(movie)\n",
    "    \n",
    "    # create a bool to find raters who liked the movie \n",
    "    liked_movie_bool = (ratings['liked'] == 1) & (ratings['movieId'] == movie)\n",
    "    \n",
    "    # get all the user IDs for people who liked the movie\n",
    "    liked_movie_users = ratings.loc[liked_movie_bool, 'userId']\n",
    "    \n",
    "    # create bool to find all rows for users who liked the movie \n",
    "    liked_movie_users_bool = ratings['userId'].isin(liked_movie_users)\n",
    "    \n",
    "    # for rows where reviewers liked the movie, get average rating and rating counts for all other movies\n",
    "    liked_movie_rated = ratings[(liked_movie_users_bool) & (ratings.movieId!= movie)].groupby('movieId')['rating']\\\n",
    "                                                                                 .agg(['mean','count'])\\\n",
    "                                                                                 .reset_index()\n",
    "    liked_movie_rated['likedMovie'] = movie\n",
    "    \n",
    "    liked_rated_snip = liked_movie_rated.loc[liked_movie_rated['count'] > 30, :]\n",
    "    liked_rated_snip.columns = cols\n",
    "\n",
    "    liked_rated = liked_rated.append(liked_rated_snip)\n",
    "\n",
    "print(\"This cell took\", (time.time() - start_time) / 60, \"minutes to run\")"
   ]
  },
  {
   "cell_type": "markdown",
   "metadata": {},
   "source": [
    "### Movie Tag Similarity"
   ]
  },
  {
   "cell_type": "code",
   "execution_count": 25,
   "metadata": {},
   "outputs": [
    {
     "data": {
      "text/html": [
       "<div>\n",
       "<style>\n",
       "    .dataframe thead tr:only-child th {\n",
       "        text-align: right;\n",
       "    }\n",
       "\n",
       "    .dataframe thead th {\n",
       "        text-align: left;\n",
       "    }\n",
       "\n",
       "    .dataframe tbody tr th {\n",
       "        vertical-align: top;\n",
       "    }\n",
       "</style>\n",
       "<table border=\"1\" class=\"dataframe\">\n",
       "  <thead>\n",
       "    <tr style=\"text-align: right;\">\n",
       "      <th></th>\n",
       "      <th>ratedMovie</th>\n",
       "      <th>avgRating</th>\n",
       "      <th>countRating</th>\n",
       "    </tr>\n",
       "    <tr>\n",
       "      <th>likedMovie</th>\n",
       "      <th></th>\n",
       "      <th></th>\n",
       "      <th></th>\n",
       "    </tr>\n",
       "  </thead>\n",
       "  <tbody>\n",
       "    <tr>\n",
       "      <th>1</th>\n",
       "      <td>6355</td>\n",
       "      <td>6355</td>\n",
       "      <td>6355</td>\n",
       "    </tr>\n",
       "    <tr>\n",
       "      <th>296</th>\n",
       "      <td>8339</td>\n",
       "      <td>8339</td>\n",
       "      <td>8339</td>\n",
       "    </tr>\n",
       "    <tr>\n",
       "      <th>2571</th>\n",
       "      <td>7718</td>\n",
       "      <td>7718</td>\n",
       "      <td>7718</td>\n",
       "    </tr>\n",
       "    <tr>\n",
       "      <th>109374</th>\n",
       "      <td>2873</td>\n",
       "      <td>2873</td>\n",
       "      <td>2873</td>\n",
       "    </tr>\n",
       "    <tr>\n",
       "      <th>112556</th>\n",
       "      <td>1995</td>\n",
       "      <td>1995</td>\n",
       "      <td>1995</td>\n",
       "    </tr>\n",
       "    <tr>\n",
       "      <th>112852</th>\n",
       "      <td>2478</td>\n",
       "      <td>2478</td>\n",
       "      <td>2478</td>\n",
       "    </tr>\n",
       "  </tbody>\n",
       "</table>\n",
       "</div>"
      ],
      "text/plain": [
       "            ratedMovie  avgRating  countRating\n",
       "likedMovie                                    \n",
       "1                 6355       6355         6355\n",
       "296               8339       8339         8339\n",
       "2571              7718       7718         7718\n",
       "109374            2873       2873         2873\n",
       "112556            1995       1995         1995\n",
       "112852            2478       2478         2478"
      ]
     },
     "execution_count": 25,
     "metadata": {},
     "output_type": "execute_result"
    }
   ],
   "source": [
    "liked_rated.groupby('likedMovie').count()"
   ]
  },
  {
   "cell_type": "code",
   "execution_count": 26,
   "metadata": {
    "collapsed": true
   },
   "outputs": [],
   "source": [
    "genome_scores = pd.read_csv(data_dir+'genome_scores.csv')"
   ]
  },
  {
   "cell_type": "code",
   "execution_count": 27,
   "metadata": {},
   "outputs": [
    {
     "data": {
      "text/html": [
       "<div>\n",
       "<style>\n",
       "    .dataframe thead tr:only-child th {\n",
       "        text-align: right;\n",
       "    }\n",
       "\n",
       "    .dataframe thead th {\n",
       "        text-align: left;\n",
       "    }\n",
       "\n",
       "    .dataframe tbody tr th {\n",
       "        vertical-align: top;\n",
       "    }\n",
       "</style>\n",
       "<table border=\"1\" class=\"dataframe\">\n",
       "  <thead>\n",
       "    <tr style=\"text-align: right;\">\n",
       "      <th></th>\n",
       "      <th>movieId</th>\n",
       "      <th>tagId</th>\n",
       "      <th>relevance</th>\n",
       "    </tr>\n",
       "  </thead>\n",
       "  <tbody>\n",
       "    <tr>\n",
       "      <th>0</th>\n",
       "      <td>1</td>\n",
       "      <td>1</td>\n",
       "      <td>0.02500</td>\n",
       "    </tr>\n",
       "    <tr>\n",
       "      <th>1</th>\n",
       "      <td>1</td>\n",
       "      <td>2</td>\n",
       "      <td>0.02500</td>\n",
       "    </tr>\n",
       "    <tr>\n",
       "      <th>2</th>\n",
       "      <td>1</td>\n",
       "      <td>3</td>\n",
       "      <td>0.05775</td>\n",
       "    </tr>\n",
       "    <tr>\n",
       "      <th>3</th>\n",
       "      <td>1</td>\n",
       "      <td>4</td>\n",
       "      <td>0.09675</td>\n",
       "    </tr>\n",
       "    <tr>\n",
       "      <th>4</th>\n",
       "      <td>1</td>\n",
       "      <td>5</td>\n",
       "      <td>0.14675</td>\n",
       "    </tr>\n",
       "  </tbody>\n",
       "</table>\n",
       "</div>"
      ],
      "text/plain": [
       "   movieId  tagId  relevance\n",
       "0        1      1    0.02500\n",
       "1        1      2    0.02500\n",
       "2        1      3    0.05775\n",
       "3        1      4    0.09675\n",
       "4        1      5    0.14675"
      ]
     },
     "execution_count": 27,
     "metadata": {},
     "output_type": "execute_result"
    }
   ],
   "source": [
    "genome_scores.head()"
   ]
  },
  {
   "cell_type": "code",
   "execution_count": 28,
   "metadata": {
    "collapsed": true
   },
   "outputs": [],
   "source": [
    "genome_scores = pd.pivot_table(genome_scores, values='relevance', index='movieId', columns='tagId').reset_index()"
   ]
  },
  {
   "cell_type": "markdown",
   "metadata": {},
   "source": [
    "#### 10381 movies have 1129 tags"
   ]
  },
  {
   "cell_type": "code",
   "execution_count": 29,
   "metadata": {},
   "outputs": [
    {
     "data": {
      "text/plain": [
       "(10381, 1129)"
      ]
     },
     "execution_count": 29,
     "metadata": {},
     "output_type": "execute_result"
    }
   ],
   "source": [
    "genome_scores.shape"
   ]
  },
  {
   "cell_type": "code",
   "execution_count": 30,
   "metadata": {},
   "outputs": [
    {
     "data": {
      "text/html": [
       "<div>\n",
       "<style>\n",
       "    .dataframe thead tr:only-child th {\n",
       "        text-align: right;\n",
       "    }\n",
       "\n",
       "    .dataframe thead th {\n",
       "        text-align: left;\n",
       "    }\n",
       "\n",
       "    .dataframe tbody tr th {\n",
       "        vertical-align: top;\n",
       "    }\n",
       "</style>\n",
       "<table border=\"1\" class=\"dataframe\">\n",
       "  <thead>\n",
       "    <tr style=\"text-align: right;\">\n",
       "      <th>tagId</th>\n",
       "      <th>movieId</th>\n",
       "      <th>1</th>\n",
       "      <th>2</th>\n",
       "      <th>3</th>\n",
       "      <th>4</th>\n",
       "      <th>5</th>\n",
       "      <th>6</th>\n",
       "      <th>7</th>\n",
       "      <th>8</th>\n",
       "      <th>9</th>\n",
       "      <th>...</th>\n",
       "      <th>1119</th>\n",
       "      <th>1120</th>\n",
       "      <th>1121</th>\n",
       "      <th>1122</th>\n",
       "      <th>1123</th>\n",
       "      <th>1124</th>\n",
       "      <th>1125</th>\n",
       "      <th>1126</th>\n",
       "      <th>1127</th>\n",
       "      <th>1128</th>\n",
       "    </tr>\n",
       "  </thead>\n",
       "  <tbody>\n",
       "    <tr>\n",
       "      <th>0</th>\n",
       "      <td>1</td>\n",
       "      <td>0.02500</td>\n",
       "      <td>0.02500</td>\n",
       "      <td>0.05775</td>\n",
       "      <td>0.09675</td>\n",
       "      <td>0.14675</td>\n",
       "      <td>0.21700</td>\n",
       "      <td>0.06700</td>\n",
       "      <td>0.26275</td>\n",
       "      <td>0.26200</td>\n",
       "      <td>...</td>\n",
       "      <td>0.03950</td>\n",
       "      <td>0.01800</td>\n",
       "      <td>0.04575</td>\n",
       "      <td>0.03275</td>\n",
       "      <td>0.12500</td>\n",
       "      <td>0.04150</td>\n",
       "      <td>0.01925</td>\n",
       "      <td>0.03625</td>\n",
       "      <td>0.07775</td>\n",
       "      <td>0.02300</td>\n",
       "    </tr>\n",
       "    <tr>\n",
       "      <th>1</th>\n",
       "      <td>2</td>\n",
       "      <td>0.03975</td>\n",
       "      <td>0.04375</td>\n",
       "      <td>0.03775</td>\n",
       "      <td>0.04800</td>\n",
       "      <td>0.11025</td>\n",
       "      <td>0.07250</td>\n",
       "      <td>0.04775</td>\n",
       "      <td>0.10975</td>\n",
       "      <td>0.09925</td>\n",
       "      <td>...</td>\n",
       "      <td>0.04175</td>\n",
       "      <td>0.01925</td>\n",
       "      <td>0.01725</td>\n",
       "      <td>0.02425</td>\n",
       "      <td>0.12550</td>\n",
       "      <td>0.02250</td>\n",
       "      <td>0.01550</td>\n",
       "      <td>0.01475</td>\n",
       "      <td>0.09025</td>\n",
       "      <td>0.01875</td>\n",
       "    </tr>\n",
       "    <tr>\n",
       "      <th>2</th>\n",
       "      <td>3</td>\n",
       "      <td>0.04350</td>\n",
       "      <td>0.05475</td>\n",
       "      <td>0.02800</td>\n",
       "      <td>0.07700</td>\n",
       "      <td>0.05400</td>\n",
       "      <td>0.06850</td>\n",
       "      <td>0.05600</td>\n",
       "      <td>0.18500</td>\n",
       "      <td>0.04925</td>\n",
       "      <td>...</td>\n",
       "      <td>0.04150</td>\n",
       "      <td>0.02675</td>\n",
       "      <td>0.02775</td>\n",
       "      <td>0.03425</td>\n",
       "      <td>0.15550</td>\n",
       "      <td>0.03675</td>\n",
       "      <td>0.01700</td>\n",
       "      <td>0.01950</td>\n",
       "      <td>0.09700</td>\n",
       "      <td>0.01850</td>\n",
       "    </tr>\n",
       "    <tr>\n",
       "      <th>3</th>\n",
       "      <td>4</td>\n",
       "      <td>0.03725</td>\n",
       "      <td>0.03950</td>\n",
       "      <td>0.03675</td>\n",
       "      <td>0.03100</td>\n",
       "      <td>0.06825</td>\n",
       "      <td>0.04050</td>\n",
       "      <td>0.02325</td>\n",
       "      <td>0.08700</td>\n",
       "      <td>0.05125</td>\n",
       "      <td>...</td>\n",
       "      <td>0.05750</td>\n",
       "      <td>0.03375</td>\n",
       "      <td>0.02275</td>\n",
       "      <td>0.03975</td>\n",
       "      <td>0.18525</td>\n",
       "      <td>0.05925</td>\n",
       "      <td>0.01500</td>\n",
       "      <td>0.01525</td>\n",
       "      <td>0.06450</td>\n",
       "      <td>0.01300</td>\n",
       "    </tr>\n",
       "    <tr>\n",
       "      <th>4</th>\n",
       "      <td>5</td>\n",
       "      <td>0.04200</td>\n",
       "      <td>0.05275</td>\n",
       "      <td>0.05925</td>\n",
       "      <td>0.03675</td>\n",
       "      <td>0.07525</td>\n",
       "      <td>0.12525</td>\n",
       "      <td>0.02850</td>\n",
       "      <td>0.08500</td>\n",
       "      <td>0.02950</td>\n",
       "      <td>...</td>\n",
       "      <td>0.04250</td>\n",
       "      <td>0.02825</td>\n",
       "      <td>0.02150</td>\n",
       "      <td>0.02600</td>\n",
       "      <td>0.14275</td>\n",
       "      <td>0.02075</td>\n",
       "      <td>0.01650</td>\n",
       "      <td>0.01675</td>\n",
       "      <td>0.10750</td>\n",
       "      <td>0.01825</td>\n",
       "    </tr>\n",
       "  </tbody>\n",
       "</table>\n",
       "<p>5 rows × 1129 columns</p>\n",
       "</div>"
      ],
      "text/plain": [
       "tagId  movieId        1        2        3        4        5        6        7  \\\n",
       "0            1  0.02500  0.02500  0.05775  0.09675  0.14675  0.21700  0.06700   \n",
       "1            2  0.03975  0.04375  0.03775  0.04800  0.11025  0.07250  0.04775   \n",
       "2            3  0.04350  0.05475  0.02800  0.07700  0.05400  0.06850  0.05600   \n",
       "3            4  0.03725  0.03950  0.03675  0.03100  0.06825  0.04050  0.02325   \n",
       "4            5  0.04200  0.05275  0.05925  0.03675  0.07525  0.12525  0.02850   \n",
       "\n",
       "tagId        8        9   ...        1119     1120     1121     1122     1123  \\\n",
       "0      0.26275  0.26200   ...     0.03950  0.01800  0.04575  0.03275  0.12500   \n",
       "1      0.10975  0.09925   ...     0.04175  0.01925  0.01725  0.02425  0.12550   \n",
       "2      0.18500  0.04925   ...     0.04150  0.02675  0.02775  0.03425  0.15550   \n",
       "3      0.08700  0.05125   ...     0.05750  0.03375  0.02275  0.03975  0.18525   \n",
       "4      0.08500  0.02950   ...     0.04250  0.02825  0.02150  0.02600  0.14275   \n",
       "\n",
       "tagId     1124     1125     1126     1127     1128  \n",
       "0      0.04150  0.01925  0.03625  0.07775  0.02300  \n",
       "1      0.02250  0.01550  0.01475  0.09025  0.01875  \n",
       "2      0.03675  0.01700  0.01950  0.09700  0.01850  \n",
       "3      0.05925  0.01500  0.01525  0.06450  0.01300  \n",
       "4      0.02075  0.01650  0.01675  0.10750  0.01825  \n",
       "\n",
       "[5 rows x 1129 columns]"
      ]
     },
     "execution_count": 30,
     "metadata": {},
     "output_type": "execute_result"
    }
   ],
   "source": [
    "genome_scores.head()"
   ]
  },
  {
   "cell_type": "code",
   "execution_count": 31,
   "metadata": {
    "collapsed": true
   },
   "outputs": [],
   "source": [
    "genome_scores = genome_scores[genome_scores['movieId'].isin(movies_master['movieId'])]"
   ]
  },
  {
   "cell_type": "markdown",
   "metadata": {},
   "source": [
    "#### 10132 movies are \"popular\" (have been rated 30 times or more)"
   ]
  },
  {
   "cell_type": "code",
   "execution_count": 32,
   "metadata": {},
   "outputs": [
    {
     "data": {
      "text/plain": [
       "(10132, 1129)"
      ]
     },
     "execution_count": 32,
     "metadata": {},
     "output_type": "execute_result"
    }
   ],
   "source": [
    "genome_scores.shape"
   ]
  },
  {
   "cell_type": "code",
   "execution_count": 33,
   "metadata": {
    "collapsed": true
   },
   "outputs": [],
   "source": [
    "genome_similarity = cosine_similarity(genome_scores.iloc[:,1:])"
   ]
  },
  {
   "cell_type": "code",
   "execution_count": 34,
   "metadata": {},
   "outputs": [
    {
     "data": {
      "text/plain": [
       "(10132, 10132)"
      ]
     },
     "execution_count": 34,
     "metadata": {},
     "output_type": "execute_result"
    }
   ],
   "source": [
    "genome_similarity.shape"
   ]
  },
  {
   "cell_type": "code",
   "execution_count": 35,
   "metadata": {},
   "outputs": [
    {
     "data": {
      "text/plain": [
       "array([[ 1.        ,  0.77436353,  0.70542151, ...,  0.52570615,\n",
       "         0.52166691,  0.7093659 ],\n",
       "       [ 0.77436353,  1.        ,  0.68651809, ...,  0.57391922,\n",
       "         0.60039779,  0.60172596],\n",
       "       [ 0.70542151,  0.68651809,  1.        , ...,  0.65508955,\n",
       "         0.66859776,  0.73614652],\n",
       "       ..., \n",
       "       [ 0.52570615,  0.57391922,  0.65508955, ...,  1.        ,\n",
       "         0.63896909,  0.5480052 ],\n",
       "       [ 0.52166691,  0.60039779,  0.66859776, ...,  0.63896909,\n",
       "         1.        ,  0.60315815],\n",
       "       [ 0.7093659 ,  0.60172596,  0.73614652, ...,  0.5480052 ,\n",
       "         0.60315815,  1.        ]])"
      ]
     },
     "execution_count": 35,
     "metadata": {},
     "output_type": "execute_result"
    }
   ],
   "source": [
    "genome_similarity"
   ]
  },
  {
   "cell_type": "code",
   "execution_count": 36,
   "metadata": {},
   "outputs": [],
   "source": [
    "tagged_movieIds = list(genome_scores['movieId'])\n",
    "genome_similarity = pd.DataFrame(genome_similarity, columns=tagged_movieIds)\n",
    "genome_similarity['movieId'] = [int(mov) for mov in tagged_movieIds]"
   ]
  },
  {
   "cell_type": "code",
   "execution_count": 37,
   "metadata": {
    "collapsed": true
   },
   "outputs": [],
   "source": [
    "genome_similarity = genome_similarity[movies_to_calc + ['movieId']]"
   ]
  },
  {
   "cell_type": "code",
   "execution_count": 38,
   "metadata": {
    "scrolled": true
   },
   "outputs": [
    {
     "name": "stdout",
     "output_type": "stream",
     "text": [
      "This cell took 8.35577646891276e-05 minutes to run\n"
     ]
    }
   ],
   "source": [
    "start_time = time.time()\n",
    "genome_similarity = genome_similarity.melt(id_vars='movieId', var_name='movieId2', value_name='similarity')\n",
    "print(\"This cell took\", (time.time() - start_time) / 60, \"minutes to run\")"
   ]
  },
  {
   "cell_type": "code",
   "execution_count": 39,
   "metadata": {},
   "outputs": [
    {
     "data": {
      "text/html": [
       "<div>\n",
       "<style>\n",
       "    .dataframe thead tr:only-child th {\n",
       "        text-align: right;\n",
       "    }\n",
       "\n",
       "    .dataframe thead th {\n",
       "        text-align: left;\n",
       "    }\n",
       "\n",
       "    .dataframe tbody tr th {\n",
       "        vertical-align: top;\n",
       "    }\n",
       "</style>\n",
       "<table border=\"1\" class=\"dataframe\">\n",
       "  <thead>\n",
       "    <tr style=\"text-align: right;\">\n",
       "      <th></th>\n",
       "      <th>movieId</th>\n",
       "      <th>movieId2</th>\n",
       "      <th>similarity</th>\n",
       "    </tr>\n",
       "  </thead>\n",
       "  <tbody>\n",
       "    <tr>\n",
       "      <th>0</th>\n",
       "      <td>1</td>\n",
       "      <td>1</td>\n",
       "      <td>1.000000</td>\n",
       "    </tr>\n",
       "    <tr>\n",
       "      <th>1</th>\n",
       "      <td>2</td>\n",
       "      <td>1</td>\n",
       "      <td>0.774364</td>\n",
       "    </tr>\n",
       "    <tr>\n",
       "      <th>2</th>\n",
       "      <td>3</td>\n",
       "      <td>1</td>\n",
       "      <td>0.705422</td>\n",
       "    </tr>\n",
       "    <tr>\n",
       "      <th>3</th>\n",
       "      <td>4</td>\n",
       "      <td>1</td>\n",
       "      <td>0.653030</td>\n",
       "    </tr>\n",
       "    <tr>\n",
       "      <th>4</th>\n",
       "      <td>5</td>\n",
       "      <td>1</td>\n",
       "      <td>0.671112</td>\n",
       "    </tr>\n",
       "  </tbody>\n",
       "</table>\n",
       "</div>"
      ],
      "text/plain": [
       "   movieId movieId2  similarity\n",
       "0        1        1    1.000000\n",
       "1        2        1    0.774364\n",
       "2        3        1    0.705422\n",
       "3        4        1    0.653030\n",
       "4        5        1    0.671112"
      ]
     },
     "execution_count": 39,
     "metadata": {},
     "output_type": "execute_result"
    }
   ],
   "source": [
    "genome_similarity.head()"
   ]
  },
  {
   "cell_type": "code",
   "execution_count": 40,
   "metadata": {
    "collapsed": true
   },
   "outputs": [],
   "source": [
    "genome_similarity = genome_similarity[genome_similarity.movieId != genome_similarity.movieId2]"
   ]
  },
  {
   "cell_type": "markdown",
   "metadata": {},
   "source": [
    "### Add similarity scores together"
   ]
  },
  {
   "cell_type": "code",
   "execution_count": 41,
   "metadata": {
    "collapsed": true
   },
   "outputs": [],
   "source": [
    "scores = pd.merge(liked_rated, genome_similarity, how='left', left_on=['ratedMovie', 'likedMovie'], \n",
    "               right_on=['movieId', 'movieId2'])"
   ]
  },
  {
   "cell_type": "code",
   "execution_count": 42,
   "metadata": {},
   "outputs": [
    {
     "data": {
      "text/html": [
       "<div>\n",
       "<style>\n",
       "    .dataframe thead tr:only-child th {\n",
       "        text-align: right;\n",
       "    }\n",
       "\n",
       "    .dataframe thead th {\n",
       "        text-align: left;\n",
       "    }\n",
       "\n",
       "    .dataframe tbody tr th {\n",
       "        vertical-align: top;\n",
       "    }\n",
       "</style>\n",
       "<table border=\"1\" class=\"dataframe\">\n",
       "  <thead>\n",
       "    <tr style=\"text-align: right;\">\n",
       "      <th></th>\n",
       "      <th>ratedMovie</th>\n",
       "      <th>avgRating</th>\n",
       "      <th>countRating</th>\n",
       "      <th>likedMovie</th>\n",
       "      <th>movieId</th>\n",
       "      <th>movieId2</th>\n",
       "      <th>similarity</th>\n",
       "    </tr>\n",
       "  </thead>\n",
       "  <tbody>\n",
       "    <tr>\n",
       "      <th>0</th>\n",
       "      <td>2</td>\n",
       "      <td>3.521185</td>\n",
       "      <td>3375</td>\n",
       "      <td>1</td>\n",
       "      <td>2.0</td>\n",
       "      <td>1</td>\n",
       "      <td>0.774364</td>\n",
       "    </tr>\n",
       "    <tr>\n",
       "      <th>1</th>\n",
       "      <td>3</td>\n",
       "      <td>3.354500</td>\n",
       "      <td>2189</td>\n",
       "      <td>1</td>\n",
       "      <td>3.0</td>\n",
       "      <td>1</td>\n",
       "      <td>0.705422</td>\n",
       "    </tr>\n",
       "    <tr>\n",
       "      <th>2</th>\n",
       "      <td>4</td>\n",
       "      <td>2.968432</td>\n",
       "      <td>491</td>\n",
       "      <td>1</td>\n",
       "      <td>4.0</td>\n",
       "      <td>1</td>\n",
       "      <td>0.653030</td>\n",
       "    </tr>\n",
       "    <tr>\n",
       "      <th>3</th>\n",
       "      <td>5</td>\n",
       "      <td>3.301891</td>\n",
       "      <td>2274</td>\n",
       "      <td>1</td>\n",
       "      <td>5.0</td>\n",
       "      <td>1</td>\n",
       "      <td>0.671112</td>\n",
       "    </tr>\n",
       "    <tr>\n",
       "      <th>4</th>\n",
       "      <td>6</td>\n",
       "      <td>3.890141</td>\n",
       "      <td>3327</td>\n",
       "      <td>1</td>\n",
       "      <td>6.0</td>\n",
       "      <td>1</td>\n",
       "      <td>0.622978</td>\n",
       "    </tr>\n",
       "  </tbody>\n",
       "</table>\n",
       "</div>"
      ],
      "text/plain": [
       "  ratedMovie  avgRating countRating likedMovie  movieId movieId2  similarity\n",
       "0          2   3.521185        3375          1      2.0        1    0.774364\n",
       "1          3   3.354500        2189          1      3.0        1    0.705422\n",
       "2          4   2.968432         491          1      4.0        1    0.653030\n",
       "3          5   3.301891        2274          1      5.0        1    0.671112\n",
       "4          6   3.890141        3327          1      6.0        1    0.622978"
      ]
     },
     "execution_count": 42,
     "metadata": {},
     "output_type": "execute_result"
    }
   ],
   "source": [
    "scores.head()"
   ]
  },
  {
   "cell_type": "code",
   "execution_count": 43,
   "metadata": {},
   "outputs": [],
   "source": [
    "scores['score'] = scores.avgRating / 20 + scores.similarity"
   ]
  },
  {
   "cell_type": "code",
   "execution_count": 44,
   "metadata": {},
   "outputs": [],
   "source": [
    "max_score = scores['score'].max()\n",
    "scores['score'] = max_score - scores['score']\n",
    "scores = pd.merge(scores, movies_master[['title', 'movieId']], left_on='ratedMovie', right_on='movieId')"
   ]
  },
  {
   "cell_type": "code",
   "execution_count": 45,
   "metadata": {},
   "outputs": [],
   "source": [
    "scores = scores[[\"likedMovie\", \"ratedMovie\", \"title\", \"avgRating\", \"countRating\", \"similarity\", \"score\"]]"
   ]
  },
  {
   "cell_type": "code",
   "execution_count": 46,
   "metadata": {},
   "outputs": [
    {
     "data": {
      "text/html": [
       "<div>\n",
       "<style>\n",
       "    .dataframe thead tr:only-child th {\n",
       "        text-align: right;\n",
       "    }\n",
       "\n",
       "    .dataframe thead th {\n",
       "        text-align: left;\n",
       "    }\n",
       "\n",
       "    .dataframe tbody tr th {\n",
       "        vertical-align: top;\n",
       "    }\n",
       "</style>\n",
       "<table border=\"1\" class=\"dataframe\">\n",
       "  <thead>\n",
       "    <tr style=\"text-align: right;\">\n",
       "      <th></th>\n",
       "      <th>avgRating</th>\n",
       "      <th>similarity</th>\n",
       "      <th>score</th>\n",
       "    </tr>\n",
       "  </thead>\n",
       "  <tbody>\n",
       "    <tr>\n",
       "      <th>count</th>\n",
       "      <td>29758.000000</td>\n",
       "      <td>29561.000000</td>\n",
       "      <td>29561.000000</td>\n",
       "    </tr>\n",
       "    <tr>\n",
       "      <th>mean</th>\n",
       "      <td>3.386306</td>\n",
       "      <td>0.639673</td>\n",
       "      <td>0.376422</td>\n",
       "    </tr>\n",
       "    <tr>\n",
       "      <th>std</th>\n",
       "      <td>0.570547</td>\n",
       "      <td>0.082779</td>\n",
       "      <td>0.099651</td>\n",
       "    </tr>\n",
       "    <tr>\n",
       "      <th>min</th>\n",
       "      <td>0.731481</td>\n",
       "      <td>0.361738</td>\n",
       "      <td>0.000000</td>\n",
       "    </tr>\n",
       "    <tr>\n",
       "      <th>25%</th>\n",
       "      <td>3.045455</td>\n",
       "      <td>0.584912</td>\n",
       "      <td>0.311994</td>\n",
       "    </tr>\n",
       "    <tr>\n",
       "      <th>50%</th>\n",
       "      <td>3.485269</td>\n",
       "      <td>0.636885</td>\n",
       "      <td>0.376587</td>\n",
       "    </tr>\n",
       "    <tr>\n",
       "      <th>75%</th>\n",
       "      <td>3.820513</td>\n",
       "      <td>0.692007</td>\n",
       "      <td>0.441766</td>\n",
       "    </tr>\n",
       "    <tr>\n",
       "      <th>max</th>\n",
       "      <td>4.639259</td>\n",
       "      <td>0.958831</td>\n",
       "      <td>0.727218</td>\n",
       "    </tr>\n",
       "  </tbody>\n",
       "</table>\n",
       "</div>"
      ],
      "text/plain": [
       "          avgRating    similarity         score\n",
       "count  29758.000000  29561.000000  29561.000000\n",
       "mean       3.386306      0.639673      0.376422\n",
       "std        0.570547      0.082779      0.099651\n",
       "min        0.731481      0.361738      0.000000\n",
       "25%        3.045455      0.584912      0.311994\n",
       "50%        3.485269      0.636885      0.376587\n",
       "75%        3.820513      0.692007      0.441766\n",
       "max        4.639259      0.958831      0.727218"
      ]
     },
     "execution_count": 46,
     "metadata": {},
     "output_type": "execute_result"
    }
   ],
   "source": [
    "scores.describe()"
   ]
  },
  {
   "cell_type": "code",
   "execution_count": 59,
   "metadata": {},
   "outputs": [
    {
     "name": "stdout",
     "output_type": "stream",
     "text": [
      "Movies like Matrix, The\n"
     ]
    },
    {
     "data": {
      "text/html": [
       "<div>\n",
       "<style>\n",
       "    .dataframe thead tr:only-child th {\n",
       "        text-align: right;\n",
       "    }\n",
       "\n",
       "    .dataframe thead th {\n",
       "        text-align: left;\n",
       "    }\n",
       "\n",
       "    .dataframe tbody tr th {\n",
       "        vertical-align: top;\n",
       "    }\n",
       "</style>\n",
       "<table border=\"1\" class=\"dataframe\">\n",
       "  <thead>\n",
       "    <tr style=\"text-align: right;\">\n",
       "      <th></th>\n",
       "      <th>likedMovie</th>\n",
       "      <th>ratedMovie</th>\n",
       "      <th>title</th>\n",
       "      <th>avgRating</th>\n",
       "      <th>countRating</th>\n",
       "      <th>similarity</th>\n",
       "      <th>score</th>\n",
       "    </tr>\n",
       "  </thead>\n",
       "  <tbody>\n",
       "    <tr>\n",
       "      <th>24165</th>\n",
       "      <td>2571</td>\n",
       "      <td>79132</td>\n",
       "      <td>Inception</td>\n",
       "      <td>4.424255</td>\n",
       "      <td>3591</td>\n",
       "      <td>0.899237</td>\n",
       "      <td>0.064922</td>\n",
       "    </tr>\n",
       "    <tr>\n",
       "      <th>15957</th>\n",
       "      <td>2571</td>\n",
       "      <td>5903</td>\n",
       "      <td>Equilibrium</td>\n",
       "      <td>3.987595</td>\n",
       "      <td>2620</td>\n",
       "      <td>0.905626</td>\n",
       "      <td>0.080367</td>\n",
       "    </tr>\n",
       "    <tr>\n",
       "      <th>25962</th>\n",
       "      <td>2571</td>\n",
       "      <td>111759</td>\n",
       "      <td>Edge of Tomorrow</td>\n",
       "      <td>4.098921</td>\n",
       "      <td>556</td>\n",
       "      <td>0.891040</td>\n",
       "      <td>0.089386</td>\n",
       "    </tr>\n",
       "    <tr>\n",
       "      <th>906</th>\n",
       "      <td>2571</td>\n",
       "      <td>260</td>\n",
       "      <td>Star Wars: Episode IV - A New Hope</td>\n",
       "      <td>4.450572</td>\n",
       "      <td>12503</td>\n",
       "      <td>0.872842</td>\n",
       "      <td>0.090001</td>\n",
       "    </tr>\n",
       "    <tr>\n",
       "      <th>1912</th>\n",
       "      <td>2571</td>\n",
       "      <td>541</td>\n",
       "      <td>Blade Runner</td>\n",
       "      <td>4.305285</td>\n",
       "      <td>8325</td>\n",
       "      <td>0.874347</td>\n",
       "      <td>0.095761</td>\n",
       "    </tr>\n",
       "    <tr>\n",
       "      <th>16574</th>\n",
       "      <td>2571</td>\n",
       "      <td>6365</td>\n",
       "      <td>Matrix Reloaded, The</td>\n",
       "      <td>3.800370</td>\n",
       "      <td>5946</td>\n",
       "      <td>0.895890</td>\n",
       "      <td>0.099464</td>\n",
       "    </tr>\n",
       "    <tr>\n",
       "      <th>2049</th>\n",
       "      <td>2571</td>\n",
       "      <td>589</td>\n",
       "      <td>Terminator 2: Judgment Day</td>\n",
       "      <td>4.234971</td>\n",
       "      <td>12110</td>\n",
       "      <td>0.872689</td>\n",
       "      <td>0.100935</td>\n",
       "    </tr>\n",
       "    <tr>\n",
       "      <th>3899</th>\n",
       "      <td>2571</td>\n",
       "      <td>1240</td>\n",
       "      <td>Terminator, The</td>\n",
       "      <td>4.180663</td>\n",
       "      <td>10229</td>\n",
       "      <td>0.874427</td>\n",
       "      <td>0.101912</td>\n",
       "    </tr>\n",
       "    <tr>\n",
       "      <th>25890</th>\n",
       "      <td>2571</td>\n",
       "      <td>109487</td>\n",
       "      <td>Interstellar</td>\n",
       "      <td>4.203422</td>\n",
       "      <td>526</td>\n",
       "      <td>0.872987</td>\n",
       "      <td>0.102215</td>\n",
       "    </tr>\n",
       "    <tr>\n",
       "      <th>3672</th>\n",
       "      <td>2571</td>\n",
       "      <td>1196</td>\n",
       "      <td>Star Wars: Episode V - The Empire Strikes Back</td>\n",
       "      <td>4.450944</td>\n",
       "      <td>12282</td>\n",
       "      <td>0.858581</td>\n",
       "      <td>0.104244</td>\n",
       "    </tr>\n",
       "  </tbody>\n",
       "</table>\n",
       "</div>"
      ],
      "text/plain": [
       "      likedMovie ratedMovie                                           title  \\\n",
       "24165       2571      79132                                       Inception   \n",
       "15957       2571       5903                                     Equilibrium   \n",
       "25962       2571     111759                                Edge of Tomorrow   \n",
       "906         2571        260              Star Wars: Episode IV - A New Hope   \n",
       "1912        2571        541                                    Blade Runner   \n",
       "16574       2571       6365                            Matrix Reloaded, The   \n",
       "2049        2571        589                      Terminator 2: Judgment Day   \n",
       "3899        2571       1240                                 Terminator, The   \n",
       "25890       2571     109487                                    Interstellar   \n",
       "3672        2571       1196  Star Wars: Episode V - The Empire Strikes Back   \n",
       "\n",
       "       avgRating countRating  similarity     score  \n",
       "24165   4.424255        3591    0.899237  0.064922  \n",
       "15957   3.987595        2620    0.905626  0.080367  \n",
       "25962   4.098921         556    0.891040  0.089386  \n",
       "906     4.450572       12503    0.872842  0.090001  \n",
       "1912    4.305285        8325    0.874347  0.095761  \n",
       "16574   3.800370        5946    0.895890  0.099464  \n",
       "2049    4.234971       12110    0.872689  0.100935  \n",
       "3899    4.180663       10229    0.874427  0.101912  \n",
       "25890   4.203422         526    0.872987  0.102215  \n",
       "3672    4.450944       12282    0.858581  0.104244  "
      ]
     },
     "execution_count": 59,
     "metadata": {},
     "output_type": "execute_result"
    }
   ],
   "source": [
    "movie = movies_to_calc[2]\n",
    "movie_name = movies_master.loc[movies_master.movieId==movie,\"title\"].values[0]\n",
    "print(\"Movies like {}\".format(movie_name))\n",
    "scores[scores.likedMovie==movie].sort_values('score', ascending=True).head(10)"
   ]
  },
  {
   "cell_type": "markdown",
   "metadata": {},
   "source": [
    "### Visualize results"
   ]
  },
  {
   "cell_type": "markdown",
   "metadata": {},
   "source": [
    "#### Toy story"
   ]
  },
  {
   "cell_type": "code",
   "execution_count": 48,
   "metadata": {},
   "outputs": [
    {
     "data": {
      "image/png": "[encoded data removed]",
      "text/plain": [
       "<matplotlib.figure.Figure at 0x1d800607860>"
      ]
     },
     "metadata": {},
     "output_type": "display_data"
    }
   ],
   "source": [
    "fig, ax = plt.subplots()\n",
    "movie = movies_to_calc[0]\n",
    "movie_name = movies_master.loc[movies_master.movieId==movie,\"title\"].values[0]\n",
    "plot_df = scores[scores.likedMovie==movie]\n",
    "plot_df.plot(x=\"avgRating\", y=\"similarity\", kind='scatter', title=\"Movies like {}\".format(movie_name), \n",
    "                                 xlim=(4, 4.8), ylim=(.85, .98), ax=ax, figsize=(16, 8), s=15)\n",
    "ax.set_xlabel(\"Average Rating from Those Who Like {}\".format(movie_name))\n",
    "ax.set_ylabel(\"Similarity of Movie Description\")\n",
    "\n",
    "for index, row in plot_df.iterrows():\n",
    "    ax.annotate(row.title, [row.avgRating, row.similarity], textcoords='offset points', xytext=(10,-5))"
   ]
  },
  {
   "cell_type": "code",
   "execution_count": 52,
   "metadata": {},
   "outputs": [
    {
     "data": {
      "image/png": "[encoded data removed]",
      "text/plain": [
       "<matplotlib.figure.Figure at 0x1d800201320>"
      ]
     },
     "metadata": {},
     "output_type": "display_data"
    }
   ],
   "source": [
    "fig, ax = plt.subplots()\n",
    "movie = movies_to_calc[0]\n",
    "movie_name = movies_master.loc[movies_master.movieId==movie,\"title\"].values[0]\n",
    "plot_df = scores[scores.likedMovie==movie]\n",
    "plot_df.plot(x=\"avgRating\", y=\"similarity\", kind='scatter', title=\"Movies NOT like {}\".format(movie_name), \n",
    "                                 xlim=(1.5, 3), ylim=(.4, .5), ax=ax, figsize=(16, 8), s=15)\n",
    "ax.set_xlabel(\"Average Rating from Those Who Like {}\".format(movie_name))\n",
    "ax.set_ylabel(\"Similarity of Movie Description\")\n",
    "for index, row in plot_df.iterrows():\n",
    "    ax.annotate(row.title, [row.avgRating, row.similarity], textcoords='offset points', xytext=(10,-5))"
   ]
  },
  {
   "cell_type": "markdown",
   "metadata": {},
   "source": [
    "#### Pulp Fiction"
   ]
  },
  {
   "cell_type": "code",
   "execution_count": 53,
   "metadata": {},
   "outputs": [
    {
     "data": {
      "image/png": "[encoded data removed]",
      "text/plain": [
       "<matplotlib.figure.Figure at 0x1d804430518>"
      ]
     },
     "metadata": {},
     "output_type": "display_data"
    }
   ],
   "source": [
    "fig, ax = plt.subplots()\n",
    "movie = movies_to_calc[1]\n",
    "movie_name = movies_master.loc[movies_master.movieId==movie,\"title\"].values[0]\n",
    "plot_df = scores[scores.likedMovie==movie]\n",
    "plot_df.plot(x=\"avgRating\", y=\"similarity\", kind='scatter', title=\"Movies like {}\".format(movie_name), \n",
    "                                 xlim=(4, 4.8), ylim=(.85, .98), ax=ax, figsize=(16, 8), s=15)\n",
    "ax.set_xlabel(\"Average Rating from Those Who Like {}\".format(movie_name))\n",
    "ax.set_ylabel(\"Similarity of Movie Description\")\n",
    "for index, row in plot_df.iterrows():\n",
    "    ax.annotate(row.title, [row.avgRating, row.similarity], textcoords='offset points', xytext=(10,-5))"
   ]
  },
  {
   "cell_type": "markdown",
   "metadata": {},
   "source": [
    "#### The Grand Budapest Hotel"
   ]
  },
  {
   "cell_type": "code",
   "execution_count": 58,
   "metadata": {},
   "outputs": [
    {
     "data": {
      "image/png": "[encoded data removed]",
      "text/plain": [
       "<matplotlib.figure.Figure at 0x1d805b9a320>"
      ]
     },
     "metadata": {},
     "output_type": "display_data"
    }
   ],
   "source": [
    "fig, ax = plt.subplots()\n",
    "movie = movies_to_calc[3]\n",
    "movie_name = movies_master.loc[movies_master.movieId==movie,\"title\"].values[0]\n",
    "plot_df = scores[scores.likedMovie==movie]\n",
    "plot_df.plot(x=\"avgRating\", y=\"similarity\", kind='scatter', title=\"Movies like {}\".format(movie_name), \n",
    "                                 xlim=(3.5, 4.6), ylim=(.86, .9), ax=ax, figsize=(16, 8), s=15)\n",
    "ax.set_xlabel(\"Average Rating from Those Who Like {}\".format(movie_name))\n",
    "ax.set_ylabel(\"Similarity of Movie Description\")\n",
    "for index, row in plot_df.iterrows():\n",
    "    ax.annotate(row.title, [row.avgRating, row.similarity], textcoords='offset points', xytext=(10,-5))"
   ]
  },
  {
   "cell_type": "markdown",
   "metadata": {},
   "source": [
    "## Conclusion: Average rating of the movie does not have a very meaningful impact on movie similarity. Raters can like two very different movies. Movie tag similarity is key"
   ]
  },
  {
   "cell_type": "code",
   "execution_count": null,
   "metadata": {
    "collapsed": true
   },
   "outputs": [],
   "source": []
  }
 ],
 "metadata": {
  "kernelspec": {
   "display_name": "Python 3",
   "language": "python",
   "name": "python3"
  },
  "language_info": {
   "codemirror_mode": {
    "name": "ipython",
    "version": 3
   },
   "file_extension": ".py",
   "mimetype": "text/x-python",
   "name": "python",
   "nbconvert_exporter": "python",
   "pygments_lexer": "ipython3",
   "version": "3.6.1"
  }
 },
 "nbformat": 4,
 "nbformat_minor": 2
}
